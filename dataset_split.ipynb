{
 "cells": [
  {
   "cell_type": "code",
   "execution_count": 4,
   "id": "150711aa-6c42-4e75-b2d1-691dc3279102",
   "metadata": {},
   "outputs": [],
   "source": [
    "import os, sys\n",
    "import json, jsonlines\n",
    "import pandas as pd\n",
    "from sklearn.model_selection import train_test_split"
   ]
  },
  {
   "cell_type": "code",
   "execution_count": 26,
   "id": "1e785377-2797-45e9-bdc5-7fc08c772377",
   "metadata": {},
   "outputs": [],
   "source": [
    "with open('dataset/firefox_featured_chats_train.json', 'r') as f:\n",
    "    firefox_train = json.load(f)\n",
    "with open('dataset/firefox_featured_chats_test.json', 'r') as f:\n",
    "    firefox_test = json.load(f)\n",
    "firefox = pd.read_csv('dataset/firefox_featured.csv')"
   ]
  },
  {
   "cell_type": "code",
   "execution_count": 27,
   "id": "298ef614-8886-4b72-86d4-5afd63f8e04c",
   "metadata": {},
   "outputs": [],
   "source": [
    "train, test = train_test_split(firefox, random_state=42, test_size=0.25)"
   ]
  },
  {
   "cell_type": "code",
   "execution_count": 30,
   "id": "29567f13-1ff3-4234-96ae-33125e5dcbf2",
   "metadata": {},
   "outputs": [],
   "source": [
    "train_idxes = set(train.index.to_list())\n",
    "new_train = [item for idx, item in enumerate(firefox_train) if idx in train_idxes]\n",
    "new_train = new_train + [item for idx, item in enumerate(firefox_test) if idx + len(firefox_train) in train_idxes]\n",
    "new_test = [item for idx, item in enumerate(firefox_train) if idx not in train_idxes]\n",
    "new_test = new_test + [item for idx, item in enumerate(firefox_test) if idx + len(firefox_train) not in train_idxes]"
   ]
  },
  {
   "cell_type": "code",
   "execution_count": 32,
   "id": "0de8cae9-3ccf-483a-a24e-94014815d1ee",
   "metadata": {},
   "outputs": [],
   "source": [
    "with open('output/firefox_featured_chats_train.json', 'w') as f:\n",
    "    json.dump(new_train, f)\n",
    "with open('output/firefox_featured_chats_test.json', 'w') as f:\n",
    "    json.dump(new_test, f)"
   ]
  },
  {
   "cell_type": "code",
   "execution_count": null,
   "id": "b1c99c81-a42d-4149-8447-d877c7d8dc00",
   "metadata": {},
   "outputs": [],
   "source": []
  },
  {
   "cell_type": "code",
   "execution_count": 52,
   "id": "18e1c059-5002-4a1e-87f1-d54fe0759ca4",
   "metadata": {},
   "outputs": [],
   "source": [
    "with open('dataset/KDE_featured_chats_train.json', 'r') as f:\n",
    "    kde_train = json.load(f)\n",
    "with open('dataset/KDE_featured_chats_test.json', 'r') as f:\n",
    "    kde_test = json.load(f)\n",
    "kde = pd.read_csv('dataset/KDE_featured.csv')"
   ]
  },
  {
   "cell_type": "code",
   "execution_count": 53,
   "id": "377faadf-c0f7-43f0-88ae-be7e7a5a09ba",
   "metadata": {},
   "outputs": [],
   "source": [
    "train, test = train_test_split(kde, random_state=42, test_size=0.25)"
   ]
  },
  {
   "cell_type": "code",
   "execution_count": 54,
   "id": "e06520ff-a604-4af6-83c6-129540afdc00",
   "metadata": {},
   "outputs": [],
   "source": [
    "train_idxes = set(train.index.to_list())\n",
    "new_train = [item for idx, item in enumerate(kde_train) if idx in train_idxes]\n",
    "new_train = new_train + [item for idx, item in enumerate(kde_test) if idx + len(kde_train) in train_idxes]\n",
    "new_test = [item for idx, item in enumerate(kde_train) if idx not in train_idxes]\n",
    "new_test = new_test + [item for idx, item in enumerate(kde_test) if idx + len(kde_train) not in train_idxes]"
   ]
  },
  {
   "cell_type": "code",
   "execution_count": 43,
   "id": "a8c432d8-d194-4939-ad2e-dbd6aabf687f",
   "metadata": {},
   "outputs": [],
   "source": [
    "with open('output/KDE_featured_chats_train.json', 'w') as f:\n",
    "    json.dump(new_train, f)\n",
    "with open('output/KDE_featured_chats_test.json', 'w') as f:\n",
    "    json.dump(new_test, f)"
   ]
  },
  {
   "cell_type": "code",
   "execution_count": 56,
   "id": "98e594c2-a98d-41c1-a36b-74aab8f5c984",
   "metadata": {},
   "outputs": [
    {
     "data": {
      "text/plain": [
       "label\n",
       "0    2919\n",
       "1     560\n",
       "Name: count, dtype: int64"
      ]
     },
     "execution_count": 56,
     "metadata": {},
     "output_type": "execute_result"
    }
   ],
   "source": [
    "train.label.value_counts()"
   ]
  },
  {
   "cell_type": "code",
   "execution_count": 46,
   "id": "d5c665ce-c85b-4f07-a2d0-de91417bf5be",
   "metadata": {},
   "outputs": [],
   "source": [
    "with open('dataset/thunderbird_featured_chats_train.json', 'r') as f:\n",
    "    thunderbird_train = json.load(f)\n",
    "with open('dataset/thunderbird_featured_chats_test.json', 'r') as f:\n",
    "    thunderbird_test = json.load(f)\n",
    "thunderbird = pd.read_csv('dataset/thunderbird_featured.csv')"
   ]
  },
  {
   "cell_type": "code",
   "execution_count": 47,
   "id": "bf2507f7-e356-438f-99ec-429046d1743c",
   "metadata": {},
   "outputs": [],
   "source": [
    "train, test = train_test_split(thunderbird, random_state=42, test_size=0.25)"
   ]
  },
  {
   "cell_type": "code",
   "execution_count": 48,
   "id": "837c7faf-beed-4ed1-bd3f-c5be58608f63",
   "metadata": {},
   "outputs": [],
   "source": [
    "train_idxes = set(train.index.to_list())\n",
    "new_train = [item for idx, item in enumerate(thunderbird_train) if idx in train_idxes]\n",
    "new_train = new_train + [item for idx, item in enumerate(thunderbird_test) if idx + len(thunderbird_train) in train_idxes]\n",
    "new_test = [item for idx, item in enumerate(thunderbird_train) if idx not in train_idxes]\n",
    "new_test = new_test + [item for idx, item in enumerate(thunderbird_test) if idx + len(thunderbird_train) not in train_idxes]"
   ]
  },
  {
   "cell_type": "code",
   "execution_count": 49,
   "id": "e94ad9aa-49bc-45ab-8856-6c5490d04470",
   "metadata": {},
   "outputs": [],
   "source": [
    "with open('output/thunderbird_featured_chats_train.json', 'w') as f:\n",
    "    json.dump(new_train, f)\n",
    "with open('output/thunderbird_featured_chats_test.json', 'w') as f:\n",
    "    json.dump(new_test, f)"
   ]
  },
  {
   "cell_type": "code",
   "execution_count": 50,
   "id": "0bc999b2-4f05-4295-8952-0d4fd3c7f124",
   "metadata": {},
   "outputs": [
    {
     "data": {
      "text/plain": [
       "(1083, 362)"
      ]
     },
     "execution_count": 50,
     "metadata": {},
     "output_type": "execute_result"
    }
   ],
   "source": [
    "len(new_train), len(new_test)"
   ]
  },
  {
   "cell_type": "code",
   "execution_count": 51,
   "id": "0962931b-b85f-48e4-936c-ab50b7cb8030",
   "metadata": {},
   "outputs": [
    {
     "data": {
      "text/plain": [
       "label\n",
       "0    190\n",
       "1    172\n",
       "Name: count, dtype: int64"
      ]
     },
     "execution_count": 51,
     "metadata": {},
     "output_type": "execute_result"
    }
   ],
   "source": [
    "test.label.value_counts()"
   ]
  }
 ],
 "metadata": {
  "kernelspec": {
   "display_name": "Python 3 (ipykernel)",
   "language": "python",
   "name": "python3"
  },
  "language_info": {
   "codemirror_mode": {
    "name": "ipython",
    "version": 3
   },
   "file_extension": ".py",
   "mimetype": "text/x-python",
   "name": "python",
   "nbconvert_exporter": "python",
   "pygments_lexer": "ipython3",
   "version": "3.10.14"
  }
 },
 "nbformat": 4,
 "nbformat_minor": 5
}
