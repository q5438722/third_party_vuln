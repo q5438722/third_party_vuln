{
 "cells": [
  {
   "cell_type": "code",
   "execution_count": 1,
   "id": "e1b253f4-ac4a-4d74-84f1-6baa7ee177fa",
   "metadata": {},
   "outputs": [],
   "source": [
    "import json, jsonlines"
   ]
  },
  {
   "cell_type": "code",
   "execution_count": 3,
   "id": "c1ae3c55-5522-4eea-b3a9-ab6fc534ac42",
   "metadata": {},
   "outputs": [],
   "source": [
    "with jsonlines.open('/home/sigma/tianyu/LLaMA-Factory-tianyu/eval/firefox_predict/generated_predictions.jsonl', 'r') as f:\n",
    "    res = [item for item in f]"
   ]
  },
  {
   "cell_type": "code",
   "execution_count": null,
   "id": "e15e9016-29eb-49eb-b1c8-cb712bc82052",
   "metadata": {},
   "outputs": [],
   "source": [
    "tp, fp, tn, fn = 0, 0, 0, 0\n",
    "for item in res:\n",
    "    if 'is not' in item['label'] and 'is not' in item['predict']:\n",
    "        tn = tn + 1\n",
    "    elif 'is not' not in item['label'] and 'is not' in item['predict']:\n",
    "        fn = fn + 1\n",
    "    elif 'is not' in item['label'] and 'is not' in item['predict']:"
   ]
  }
 ],
 "metadata": {
  "kernelspec": {
   "display_name": "Python 3 (ipykernel)",
   "language": "python",
   "name": "python3"
  },
  "language_info": {
   "codemirror_mode": {
    "name": "ipython",
    "version": 3
   },
   "file_extension": ".py",
   "mimetype": "text/x-python",
   "name": "python",
   "nbconvert_exporter": "python",
   "pygments_lexer": "ipython3",
   "version": "3.10.14"
  }
 },
 "nbformat": 4,
 "nbformat_minor": 5
}
