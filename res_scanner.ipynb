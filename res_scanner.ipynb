{
 "cells": [
  {
   "cell_type": "code",
   "execution_count": 12,
   "id": "e1b253f4-ac4a-4d74-84f1-6baa7ee177fa",
   "metadata": {},
   "outputs": [],
   "source": [
    "import json, jsonlines\n",
    "import pandas as pd"
   ]
  },
  {
   "cell_type": "code",
   "execution_count": 13,
   "id": "c1ae3c55-5522-4eea-b3a9-ab6fc534ac42",
   "metadata": {},
   "outputs": [],
   "source": [
    "with jsonlines.open('/home/sigma/tianyu/LLaMA-Factory-tianyu/eval/firefox_predict/generated_predictions.jsonl', 'r') as f:\n",
    "    res = [item for item in f]"
   ]
  },
  {
   "cell_type": "code",
   "execution_count": 31,
   "id": "f83d2c27-0bcd-4645-a4f4-663321354e1c",
   "metadata": {},
   "outputs": [],
   "source": [
    "with jsonlines.open('/home/sigma/tianyu/LLaMA-Factory-tianyu/eval/kde_predict/generated_predictions.jsonl', 'r') as f:\n",
    "    res = [item for item in f]"
   ]
  },
  {
   "cell_type": "code",
   "execution_count": 25,
   "id": "c74664d4-5530-4d86-ad8b-4429b35b9fd6",
   "metadata": {},
   "outputs": [],
   "source": [
    "with jsonlines.open('/home/sigma/tianyu/LLaMA-Factory-tianyu/eval/thunderbird_predict/generated_predictions.jsonl', 'r') as f:\n",
    "    res = [item for item in f]"
   ]
  },
  {
   "cell_type": "code",
   "execution_count": 23,
   "id": "21884544-471f-4b03-8d47-4ffbed5d21f9",
   "metadata": {},
   "outputs": [],
   "source": [
    "with open('/home/sigma/tianyu/LLaMA-Factory-tianyu/eval/kde_predict/generated_predictions.jsonl', 'r') as f:\n",
    "    res = f.read()"
   ]
  },
  {
   "cell_type": "code",
   "execution_count": null,
   "id": "145eb3bf-c846-4304-a229-2e08a9c4df6f",
   "metadata": {},
   "outputs": [],
   "source": [
    "res.splitlines()[0]"
   ]
  },
  {
   "cell_type": "code",
   "execution_count": 32,
   "id": "e15e9016-29eb-49eb-b1c8-cb712bc82052",
   "metadata": {},
   "outputs": [],
   "source": [
    "tp, fp, tn, fn, error = 0, 0, 0, 0, 0\n",
    "for item in res:\n",
    "    if 'is not' in item['label'] and 'is not' in item['predict']:\n",
    "        tn = tn + 1\n",
    "    elif 'is not' not in item['label'] and 'is not' in item['predict']:\n",
    "        fn = fn + 1\n",
    "    elif 'is not' in item['label'] and 'is not' not in item['predict']:\n",
    "        fp = fp + 1\n",
    "    elif 'is not' not in item['label'] and 'is not' not in item['predict']:\n",
    "        tp = tp + 1"
   ]
  },
  {
   "cell_type": "code",
   "execution_count": 33,
   "id": "ef16e457-4892-4819-8c5f-9154426825cd",
   "metadata": {},
   "outputs": [
    {
     "data": {
      "text/plain": [
       "(0, 0, 400, 760)"
      ]
     },
     "execution_count": 33,
     "metadata": {},
     "output_type": "execute_result"
    }
   ],
   "source": [
    "tp, fp, tn, fn"
   ]
  },
  {
   "cell_type": "code",
   "execution_count": 30,
   "id": "78ad8737-1c8c-451a-a2a1-103d0c958c76",
   "metadata": {},
   "outputs": [
    {
     "data": {
      "text/plain": [
       "(0.9891304347826086, 0.52)"
      ]
     },
     "execution_count": 30,
     "metadata": {},
     "output_type": "execute_result"
    }
   ],
   "source": [
    "91/92, 91/(91+84)"
   ]
  },
  {
   "cell_type": "code",
   "execution_count": null,
   "id": "3a05cb4d-1a29-43f7-b98a-b10bf8635a00",
   "metadata": {},
   "outputs": [],
   "source": []
  },
  {
   "cell_type": "code",
   "execution_count": 7,
   "id": "b64c0841-6051-4eda-b7ae-2e2817848017",
   "metadata": {},
   "outputs": [],
   "source": [
    "df = pd.read_csv('dataset/firefox_featured.csv')"
   ]
  },
  {
   "cell_type": "code",
   "execution_count": 11,
   "id": "25be64d3-3e63-4f21-8469-0df29099fd56",
   "metadata": {},
   "outputs": [
    {
     "data": {
      "text/plain": [
       "label\n",
       "0    4706\n",
       "1     947\n",
       "Name: count, dtype: int64"
      ]
     },
     "execution_count": 11,
     "metadata": {},
     "output_type": "execute_result"
    }
   ],
   "source": [
    "df.label.value_counts()"
   ]
  },
  {
   "cell_type": "code",
   "execution_count": null,
   "id": "3ab9e309-b57e-4bfd-a6e4-f7d47f67a1bd",
   "metadata": {},
   "outputs": [],
   "source": []
  },
  {
   "cell_type": "code",
   "execution_count": null,
   "id": "ce46b5a6-ee2d-4305-b819-285c251f3d70",
   "metadata": {},
   "outputs": [],
   "source": []
  },
  {
   "cell_type": "code",
   "execution_count": null,
   "id": "dd5d068f-4ee9-4da1-8aa3-b6ed6855f2cb",
   "metadata": {},
   "outputs": [],
   "source": []
  }
 ],
 "metadata": {
  "kernelspec": {
   "display_name": "Python 3 (ipykernel)",
   "language": "python",
   "name": "python3"
  },
  "language_info": {
   "codemirror_mode": {
    "name": "ipython",
    "version": 3
   },
   "file_extension": ".py",
   "mimetype": "text/x-python",
   "name": "python",
   "nbconvert_exporter": "python",
   "pygments_lexer": "ipython3",
   "version": "3.10.14"
  }
 },
 "nbformat": 4,
 "nbformat_minor": 5
}
